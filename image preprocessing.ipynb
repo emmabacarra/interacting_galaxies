{
 "cells": [
  {
   "cell_type": "code",
   "execution_count": 1,
   "metadata": {},
   "outputs": [
    {
     "data": {
      "text/plain": [
       "'c:\\\\Users\\\\ebaca\\\\Desktop\\\\Interacting Galaxies Project'"
      ]
     },
     "execution_count": 1,
     "metadata": {},
     "output_type": "execute_result"
    }
   ],
   "source": [
    "import os\n",
    "os.getcwd()"
   ]
  },
  {
   "cell_type": "markdown",
   "metadata": {},
   "source": [
    "##### packages galore"
   ]
  },
  {
   "cell_type": "code",
   "execution_count": 2,
   "metadata": {},
   "outputs": [],
   "source": [
    "import matplotlib.pyplot as plt\n",
    "\n",
    "# this is not a real package just a collection of functions i made in a .py file \n",
    "# this also includes the convenience_functions.py file that was given by Tuttle\n",
    "from funcrefs import fnrefs as rfs\n",
    "from funcrefs import convenience_functions as cf\n",
    "from funcrefs import PhotAnnulus as phan\n",
    "\n",
    "from astropy.io import fits\n",
    "from astropy.wcs import WCS\n",
    "from ccdproc import Combiner\n",
    "from astropy.nddata import CCDData\n",
    "import re\n",
    "import astropy.units as u\n",
    "import numpy as np\n",
    "import astropy.visualization as vis\n",
    "import warnings\n",
    "from matplotlib import cm\n",
    "from matplotlib.colors import LinearSegmentedColormap\n",
    "from matplotlib.patches import Rectangle\n",
    "\n",
    "import photutils as pu\n",
    "from astropy.stats import sigma_clipped_stats, SigmaClip\n",
    "from photutils.detection import DAOStarFinder\n",
    "from photutils.aperture import CircularAperture, CircularAnnulus, aperture_photometry, ApertureStats\n",
    "import photutils.background as pb"
   ]
  },
  {
   "cell_type": "markdown",
   "metadata": {},
   "source": [
    "### notes for myself\n",
    "\n",
    "collapse to ignore"
   ]
  },
  {
   "cell_type": "code",
   "execution_count": 3,
   "metadata": {},
   "outputs": [],
   "source": [
    "# from WCS documentation: https://docs.astropy.org/en/stable/wcs/#a-simple-example\n",
    "    # fn = get_pkg_data_filename('data/j94f05bgq_flt.fits', package='astropy.wcs.tests')\n",
    "    # f = fits.open(fn)\n",
    "    # w = WCS(f[1].header)\n",
    "    # sky = w.pixel_to_world(30, 40)\n",
    "    # x, y = w.world_to_pixel(sky)\n",
    "# LOL idk what i'm doing, will need to figure this out"
   ]
  },
  {
   "cell_type": "markdown",
   "metadata": {},
   "source": [
    "creating master files for biases, darks, and flats to use in data reduction\n",
    "\n",
    "stack with wcs position to crop images, not x/y position\n",
    "\n",
    "i.e. stack as a function of position, not CCD position, so it's okay if they aren't lined up\n",
    "\n",
    "use wcs to translate pixel to coordinate system then combiner to combine the images"
   ]
  },
  {
   "cell_type": "markdown",
   "metadata": {},
   "source": [
    "- aperture photometry over psf? \n",
    "    - shredding: breaks up an object into smaller objects\n",
    "- sky background/annular photometry\n",
    "    - aperture radius\n",
    "- data reduction with ML --> maybe but is it overengineering?\n",
    "- then once pic looks good then can go forward and start analysis\n",
    "    - emission & absorption lines?\n",
    "    - subtract average brightness from image data to isolte h-alpha lines\n",
    "    - compare the brightness of h-alpha lines in ngc 4567 and m 58 to see how star formation rates are affected\n",
    "- remember end goal is to get flux data to analyse star formation in interacting galaxies"
   ]
  },
  {
   "cell_type": "markdown",
   "metadata": {},
   "source": [
    "## creating stacks/accessing files\n",
    "\n",
    "if using rfs.create_stack(), make sure to call normalize=True for the flats! this will make sure they are normalized before stacking. \n",
    "\n",
    "otherwise, the parameter doesn't need to be called"
   ]
  },
  {
   "cell_type": "markdown",
   "metadata": {},
   "source": [
    "#### creating stacks & writing to files\n",
    "collapse to ignore"
   ]
  },
  {
   "cell_type": "code",
   "execution_count": 4,
   "metadata": {},
   "outputs": [],
   "source": [
    "# # stacking calibration files\n",
    "# # commenting this out since it only needs to be run once\n",
    "\n",
    "# # BIASES\n",
    "# rfs.create_stack('biases/', keyword='Bias_', writeto='biases/master_bias.fits', overwrite=True)\n",
    "\n",
    "# # DARKS\n",
    "# rfs.create_stack('darks/', keyword='Dark_', writeto='darks/master_dark.fits', overwrite=True)\n",
    "\n",
    "# # G FILTER FLATS\n",
    "# rfs.create_stack('flats/g flats/', keyword='domeflat', writeto='flats/g flats/master_gfilter.fits', overwrite=True, normalize = True)\n",
    "\n",
    "# # Ha FILTER FLATS\n",
    "# rfs.create_stack('flats/ha flats/', keyword='domeflat', writeto='flats/ha flats/master_hafilter.fits', overwrite=True, normalize = True)\n",
    "\n",
    "# # I FILTER FLATS\n",
    "# rfs.create_stack('flats/i flats/', keyword='domeflat', writeto='flats/i flats/master_ifilter.fits', overwrite=True, normalize = True)\n",
    "\n",
    "# # R FILTER FLATS\n",
    "# rfs.create_stack('flats/r flats/', keyword='domeflat', writeto='flats/r flats/master_rfilter.fits', overwrite=True, normalize = True)"
   ]
  },
  {
   "cell_type": "code",
   "execution_count": 6,
   "metadata": {},
   "outputs": [],
   "source": [
    "# # stacking NGC 4567 raw data files and calibrating\n",
    "# # commenting this out since it only needs to be run once\n",
    "\n",
    "# cal_ngc4567 = {\n",
    "#     'g': rfs.create_stack('NGC 4567/raw data/', keyword = '_g_'),\n",
    "#     'ha': rfs.create_stack('NGC 4567/raw data/', keyword = '_Ha_'),\n",
    "#     'r': rfs.create_stack('NGC 4567/raw data/', keyword = '_r_'),\n",
    "#     'i': rfs.create_stack('NGC 4567/raw data/', keyword = '_i_')\n",
    "# }\n",
    "\n",
    "# for filter in ['g', 'ha', 'r', 'i']:\n",
    "    \n",
    "#     calibrated_data = ((cal_ngc4567[filter] - bias - dark) / flats[filter])\n",
    "#     fits.writeto(f'NGC 4567/calibrated_{filter}.fits', calibrated_data, overwrite=True)"
   ]
  },
  {
   "cell_type": "code",
   "execution_count": 7,
   "metadata": {},
   "outputs": [],
   "source": [
    "# # stacking M 58 raw data files and calibrating\n",
    "# # commenting this out since it only needs to be run once\n",
    "\n",
    "# cal_m58 = {\n",
    "#     'g': rfs.create_stack('M 58/raw data/', keyword = '_g_'),\n",
    "#     'ha': rfs.create_stack('M 58/raw data/', keyword = '_Ha_'),\n",
    "#     'r': rfs.create_stack('M 58/raw data/', keyword = '_r_')\n",
    "# }\n",
    "\n",
    "# for filter in ['g', 'ha', 'r']:\n",
    "    \n",
    "#     calibrated_data = ((cal_m58[filter] - bias - dark) / flats[filter])\n",
    "#     fits.writeto(f'M 58/calibrated_{filter}.fits', calibrated_data, overwrite=True)"
   ]
  },
  {
   "cell_type": "markdown",
   "metadata": {},
   "source": [
    "#### accessing stack files"
   ]
  },
  {
   "cell_type": "code",
   "execution_count": 5,
   "metadata": {},
   "outputs": [],
   "source": [
    "bias = fits.open('biases/master_bias.fits')[0].data\n",
    "\n",
    "dark = fits.open('darks/master_dark.fits')[0].data\n",
    "\n",
    "flats = { # only flats need to be normalized\n",
    "    'g': fits.open('flats/g flats/master_gfilter.fits')[0].data,\n",
    "    'ha': fits.open('flats/ha flats/master_hafilter.fits')[0].data,\n",
    "    'r': fits.open('flats/r flats/master_rfilter.fits')[0].data,\n",
    "    'i': fits.open('flats/i flats/master_ifilter.fits')[0].data\n",
    "}"
   ]
  },
  {
   "cell_type": "code",
   "execution_count": 8,
   "metadata": {},
   "outputs": [],
   "source": [
    "ngc4567 = {\n",
    "    'g': fits.open('NGC 4567/calibrated_g.fits')[0].data,\n",
    "    'ha': fits.open('NGC 4567/calibrated_ha.fits')[0].data,\n",
    "    'r': fits.open('NGC 4567/calibrated_r.fits')[0].data,\n",
    "    'i': fits.open('NGC 4567/calibrated_i.fits')[0].data\n",
    "}\n",
    "\n",
    "m58 = {\n",
    "    'g': fits.open('M 58/calibrated_g.fits')[0].data,\n",
    "    'ha': fits.open('M 58/calibrated_ha.fits')[0].data,\n",
    "    'r': fits.open('M 58/calibrated_r.fits')[0].data\n",
    "}"
   ]
  },
  {
   "cell_type": "markdown",
   "metadata": {},
   "source": [
    "## assessing calibrations NGC 4567\n",
    "no longer needed"
   ]
  },
  {
   "cell_type": "code",
   "execution_count": 9,
   "metadata": {},
   "outputs": [],
   "source": [
    "raw_ngc4567 = {\n",
    "    'g': rfs.create_stack('NGC 4567/raw data/', keyword = '_g_'),\n",
    "    'ha': rfs.create_stack('NGC 4567/raw data/', keyword = '_Ha_'),\n",
    "    'r': rfs.create_stack('NGC 4567/raw data/', keyword = '_r_'),\n",
    "    'i': rfs.create_stack('NGC 4567/raw data/', keyword = '_i_')\n",
    "}"
   ]
  },
  {
   "cell_type": "code",
   "execution_count": 10,
   "metadata": {},
   "outputs": [],
   "source": [
    "fig, axs = plt.subplots(2, 4, figsize=(18, 9), facecolor='black')\n",
    "\n",
    "for i, filter in enumerate(['g', 'ha', 'r', 'i']):\n",
    "\n",
    "    # raw stacked data --------------------------------\n",
    "    raw_data = raw_ngc4567[filter]\n",
    "\n",
    "    vis_vmin, vis_vmax = np.percentile(raw_data, [1, 99.75])\n",
    "    norm = vis.ImageNormalize(raw_data, vmin=vis_vmin, vmax=vis_vmax, interval=vis.ZScaleInterval(), stretch=vis.LinearStretch())\n",
    "\n",
    "    axs[0, i].imshow(raw_data, cmap='magma', norm=norm, interpolation='gaussian')\n",
    "    axs[0, i].set_title(f'Stacked Data ({filter})', weight='bold', color='white')\n",
    "    axs[0, i].set_xlabel(f'Min: {vis_vmin:.3f}            Max: {vis_vmax:.3f}', color='white')\n",
    "\n",
    "    # calibrated data --------------------------------\n",
    "    calibrated_data = ngc4567[filter]\n",
    "\n",
    "    vis_vmin, vis_vmax = np.percentile(calibrated_data, [1, 99.75])\n",
    "    norm = vis.ImageNormalize(calibrated_data, vmin=vis_vmin, vmax=vis_vmax, interval=vis.ZScaleInterval(), stretch=vis.LinearStretch())\n",
    "\n",
    "    axs[1, i].imshow(calibrated_data, cmap='magma', norm=norm, interpolation='gaussian')\n",
    "    axs[1, i].set_title(f'Calibrated Data ({filter})', weight='bold', color='white')\n",
    "    axs[1, i].set_xlabel(f'Min: {vis_vmin:.3f}            Max: {vis_vmax:.3f}', color='white')\n",
    "\n",
    "plt.setp(plt.gcf().get_axes(), xticks=[], yticks=[])"
   ]
  },
  {
   "cell_type": "markdown",
   "metadata": {},
   "source": [
    "## assessing calibrations M 58\n",
    "no longer needed"
   ]
  },
  {
   "cell_type": "code",
   "execution_count": 12,
   "metadata": {},
   "outputs": [],
   "source": [
    "raw_m58 = {\n",
    "    'g': rfs.create_stack('M 58/raw data/', keyword = '_g_'),\n",
    "    'ha': rfs.create_stack('M 58/raw data/', keyword = '_Ha_'),\n",
    "    'r': rfs.create_stack('M 58/raw data/', keyword = '_r_')\n",
    "}"
   ]
  },
  {
   "cell_type": "code",
   "execution_count": 13,
   "metadata": {},
   "outputs": [],
   "source": [
    "fig, axs = plt.subplots(2, 3, figsize=(14, 9), facecolor='black')\n",
    "\n",
    "for i, filter in enumerate(['g', 'ha', 'r']):\n",
    "\n",
    "    # raw stacked data --------------------------------\n",
    "    raw_data = raw_m58[filter]\n",
    "\n",
    "    vis_vmin, vis_vmax = np.percentile(raw_data, [1, 99.75])\n",
    "    norm = vis.ImageNormalize(raw_data, vmin=vis_vmin, vmax=vis_vmax, interval=vis.ZScaleInterval(), stretch=vis.LinearStretch())\n",
    "\n",
    "    axs[0, i].imshow(raw_data, cmap='magma', norm=norm, interpolation='gaussian')\n",
    "    axs[0, i].set_title(f'Stacked Data ({filter})', weight='bold', color='white')\n",
    "    axs[0, i].set_xlabel(f'Min: {vis_vmin:.3f}            Max: {vis_vmax:.3f}', color='white')\n",
    "\n",
    "    # calibrated data --------------------------------\n",
    "    calibrated_data = m58[filter]\n",
    "\n",
    "    vis_vmin, vis_vmax = np.percentile(calibrated_data, [1, 99.75])\n",
    "    norm = vis.ImageNormalize(calibrated_data, vmin=vis_vmin, vmax=vis_vmax, interval=vis.ZScaleInterval(), stretch=vis.LinearStretch())\n",
    "\n",
    "    axs[1, i].imshow(calibrated_data, cmap='magma', norm=norm, interpolation='gaussian')\n",
    "    axs[1, i].set_title(f'Calibrated Data ({filter})', weight='bold', color='white')\n",
    "    axs[1, i].set_xlabel(f'Min: {vis_vmin:.3f}            Max: {vis_vmax:.3f}', color='white')\n",
    "\n",
    "plt.setp(plt.gcf().get_axes(), xticks=[], yticks=[])"
   ]
  }
 ],
 "metadata": {
  "kernelspec": {
   "display_name": "CMDresearch",
   "language": "python",
   "name": "python3"
  },
  "language_info": {
   "codemirror_mode": {
    "name": "ipython",
    "version": 3
   },
   "file_extension": ".py",
   "mimetype": "text/x-python",
   "name": "python",
   "nbconvert_exporter": "python",
   "pygments_lexer": "ipython3",
   "version": "3.11.9"
  }
 },
 "nbformat": 4,
 "nbformat_minor": 2
}
