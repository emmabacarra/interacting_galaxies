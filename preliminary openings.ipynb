{
 "cells": [
  {
   "cell_type": "code",
   "execution_count": null,
   "metadata": {},
   "outputs": [],
   "source": [
    "import os\n",
    "os.getcwd()"
   ]
  },
  {
   "cell_type": "code",
   "execution_count": null,
   "metadata": {},
   "outputs": [],
   "source": [
    "from funcrefs import fnrefs as rfs\n",
    "from funcrefs import convenience_functions as cf"
   ]
  },
  {
   "cell_type": "markdown",
   "metadata": {},
   "source": [
    "### viewing raw files (will fix aesthetics later)"
   ]
  },
  {
   "cell_type": "code",
   "execution_count": null,
   "metadata": {},
   "outputs": [],
   "source": [
    "raw_path = os.path.relpath(\"NGC 4567/raw data\")\n",
    "raw_files = [os.path.join(raw_path, f) for f in os.listdir(raw_path)]\n",
    "\n",
    "rfs.map_fits(\n",
    "    files = raw_files,\n",
    "    hdul_index = 0,\n",
    "    nrows = 4,\n",
    "    ncols = 3,\n",
    "    figsize = (15, 15),\n",
    "    cmap = 'grey',\n",
    "    interpolation = 'hermite',\n",
    "    interval = 'ZScale',\n",
    "    stretch = 'Sqrt',\n",
    "    vmin = 40,\n",
    "    vmax = 96\n",
    ")"
   ]
  },
  {
   "cell_type": "code",
   "execution_count": null,
   "metadata": {},
   "outputs": [],
   "source": [
    "obs2_path = os.path.relpath(\"M 58\")\n",
    "obs2_files = [os.path.join(obs2_path, f) for f in os.listdir(obs2_path) if f.endswith('.fits')]\n",
    "\n",
    "rfs.map_fits(\n",
    "    files = obs2_files,\n",
    "    hdul_index = 0,\n",
    "    nrows = 3,\n",
    "    ncols = 3,\n",
    "    figsize = (15, 15),\n",
    "    cmap = 'grey',\n",
    "    interpolation = 'hermite',\n",
    "    interval = 'ZScale',\n",
    "    stretch = 'Sqrt',\n",
    "    vmin = 40,\n",
    "    vmax = 96,\n",
    ")"
   ]
  }
 ],
 "metadata": {
  "kernelspec": {
   "display_name": "CMDresearch",
   "language": "python",
   "name": "python3"
  },
  "language_info": {
   "name": "python",
   "version": "3.11.8"
  }
 },
 "nbformat": 4,
 "nbformat_minor": 2
}
